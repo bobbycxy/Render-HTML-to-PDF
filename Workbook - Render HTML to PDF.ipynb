{
 "cells": [
  {
   "cell_type": "markdown",
   "metadata": {},
   "source": [
    "# How to Render HTML into PDF\n",
    "\n",
    "**_Keywords: automation, reports, html, python, pdf_**\n",
    "\n",
    "This documentation is intended to help others set up an environment to render HTML templates into PDFs.\n"
   ]
  },
  {
   "cell_type": "markdown",
   "metadata": {},
   "source": [
    "***\n",
    "# 1. Setting up HTML to PDF Converter <a id=\"#chapter1\"></a>"
   ]
  },
  {
   "cell_type": "markdown",
   "metadata": {},
   "source": [
    "- This requires downloading a .exe file and saving it in its default installation folder. \n",
    "- Kindly follow the intructions to ensure successful implementation\n",
    "\n",
    "### Instructions:\n",
    "1. **Go to the following [link](https://wkhtmltopdf.org/downloads.html) and download a precompiled binary of 'wkhtmltopdf'.** The OS I'm using is Windows 10. Hence, the example illustrated below uses the Windows Installer Version of the 32-Bit Architecture. \n",
    "\n",
    "2. **Run the .exe file and remember the file path for its installation.** If you've similarly chosen the 32-bit Windows Installer version, a folder titled 'wkhtmltopdf' would be created be in the 'C:/Program Files (x86)' folder path. \n",
    "\n",
    "3. **Inside the folder 'wkhtmltopdf', go to 'bin' and copy the file path of 'wkhtmltopdf.exe'.** You should have a file path like 'C:\\Program Files (x86)\\wkhtmltopdf\\bin\\wkhtmltopdf.exe'. Copy this file path and assign it to the variable 'path_wkhtmltopdf_input'.\n"
   ]
  },
  {
   "cell_type": "code",
   "execution_count": null,
   "metadata": {},
   "outputs": [],
   "source": [
    "path_wkhtmltopdf_input = r'C:\\Program Files (x86)\\wkhtmltopdf\\bin\\wkhtmltopdf.exe'"
   ]
  },
  {
   "cell_type": "markdown",
   "metadata": {},
   "source": [
    "4. Import the libraries and install them if necessary"
   ]
  },
  {
   "cell_type": "code",
   "execution_count": null,
   "metadata": {},
   "outputs": [],
   "source": [
    "# pip install pdfkit"
   ]
  },
  {
   "cell_type": "code",
   "execution_count": null,
   "metadata": {},
   "outputs": [],
   "source": [
    "####### Import Libraries #######\n",
    "import pdfkit\n",
    "from jinja2 import Environment, FileSystemLoader\n",
    "import os"
   ]
  },
  {
   "cell_type": "markdown",
   "metadata": {},
   "source": [
    "5. **Run the undermentioned code chunk.** You should see 2 outputs: 1) HTML String amd 2) the outputs of the function used to convert HTML to PDF>"
   ]
  },
  {
   "cell_type": "code",
   "execution_count": null,
   "metadata": {},
   "outputs": [],
   "source": [
    "env = Environment(loader=FileSystemLoader('.'))\n",
    "template = env.get_template(\"00 Resources/myreport.html\")\n",
    "\n",
    "template_vars = {\"title\" : \"A quote by Michael Scott\"\n",
    "                 ,\"file_path\" : \"'file:///\" + os.getcwd().replace(\"\\\\\",\"/\") + \"/00 Resources/Picture 1.png'\"\n",
    "                }\n",
    "\n",
    "html_string = template.render(template_vars)\n",
    "\n",
    "print('------------------ HTML String ------------------')\n",
    "print(html_string)\n",
    "\n",
    "\n",
    "path_wkhtmltopdf = path_wkhtmltopdf_input\n",
    "config = pdfkit.configuration(wkhtmltopdf=path_wkhtmltopdf)\n",
    "\n",
    "options = {\n",
    "    'page-size': 'A4',\n",
    "    'margin-top': '0.75in',\n",
    "    'margin-right': '0.75in',\n",
    "    'margin-bottom': '0.75in',\n",
    "    'margin-left': '0.75in',\n",
    "    'encoding': \"UTF-8\",\n",
    "    'enable-local-file-access': None,\n",
    "    'no-outline': None\n",
    "}\n",
    "\n",
    "print('\\n------------ Converting HTML to PDF -------------')\n",
    "pdfkit.from_string(html_string,'01 Outputs/PDF Report Sample - without Table of Contents.pdf', configuration=config, options = options)\n",
    "\n"
   ]
  },
  {
   "cell_type": "markdown",
   "metadata": {},
   "source": [
    "6. **Go to the '01 Outputs' folder and open 'PDF Report Sample - without Table of Contents' pdf.** You should see a title text, and a picture of Michael Scott from the sitcom \"The Office\"."
   ]
  },
  {
   "cell_type": "markdown",
   "metadata": {
    "jp-MarkdownHeadingCollapsed": true,
    "tags": []
   },
   "source": [
    "# PDF Report with Table of Contents (TOC) <a id = 'section2'> </a>\n",
    "\n",
    "Let's add a table of content into the PDF report."
   ]
  },
  {
   "cell_type": "code",
   "execution_count": null,
   "metadata": {},
   "outputs": [],
   "source": [
    "env = Environment(loader=FileSystemLoader('.'))\n",
    "template = env.get_template(\"00 Resources/myreport.html\")\n",
    "\n",
    "template_vars = {\"title\" : \"A quote by Michael Scott\"\n",
    "                 ,\"file_path\" : \"'file:///\" + os.getcwd().replace(\"\\\\\",\"/\") + \"/00 Resources/Picture 1.png'\"\n",
    "                }\n",
    "\n",
    "html_string = template.render(template_vars)\n",
    "\n",
    "print('------------------ HTML String ------------------')\n",
    "print(html_string)\n",
    "\n",
    "\n",
    "path_wkhtmltopdf = path_wkhtmltopdf_input\n",
    "config = pdfkit.configuration(wkhtmltopdf=path_wkhtmltopdf)\n",
    "\n",
    "options = {\n",
    "    'page-size': 'A4',\n",
    "    'margin-top': '0.75in',\n",
    "    'margin-right': '0.75in',\n",
    "    'margin-bottom': '0.75in',\n",
    "    'margin-left': '0.75in',\n",
    "    'encoding': \"UTF-8\",\n",
    "    'enable-local-file-access': None,\n",
    "    'no-outline': None\n",
    "}\n",
    "\n",
    "## Newly added toc ##\n",
    "toc = {'xsl-style-sheet': '00 Resources/tableofcontent_style_config_v1.xml'}\n",
    "\n",
    "print('\\n------------ Converting HTML to PDF -------------')\n",
    "pdfkit.from_string(html_string,'01 Outputs/PDF Report Sample - with Table of Contents.pdf', configuration=config, options = options, toc = toc) ## Newly added toc\n",
    "\n"
   ]
  },
  {
   "cell_type": "markdown",
   "metadata": {},
   "source": [
    "#  PDF Report with Table of Contents (TOC) and Added Customisations\n",
    "\n",
    "Let's add some additional features into\n",
    "\n",
    "Resources:\n",
    "- https://wkhtmltopdf.org/usage/wkhtmltopdf.txthttps://wkhtmltopdf.org/usage/wkhtmltopdf.txt"
   ]
  },
  {
   "cell_type": "code",
   "execution_count": null,
   "metadata": {},
   "outputs": [],
   "source": [
    "# import datetime\n",
    "import datetime\n",
    "my_date = datetime.date.today()\n",
    "\n",
    "env = Environment(loader=FileSystemLoader('.'))\n",
    "template = env.get_template(\"00 Resources/myreport.html\")\n",
    "\n",
    "template_vars = {\"title\" : \"A quote by Michael Scott\"\n",
    "                 ,\"file_path\" : \"'file:///\" + os.getcwd().replace(\"\\\\\",\"/\") + \"/00 Resources/Picture 1.png'\"\n",
    "                }\n",
    "\n",
    "html_string = template.render(template_vars)\n",
    "\n",
    "print('------------------ HTML String ------------------')\n",
    "print(html_string)\n",
    "\n",
    "\n",
    "path_wkhtmltopdf = path_wkhtmltopdf_input\n",
    "config = pdfkit.configuration(wkhtmltopdf=path_wkhtmltopdf)\n",
    "\n",
    "## Newly added options\n",
    "options = {\n",
    "    'page-size': 'A4',\n",
    "    'margin-top': '0.5in',\n",
    "    'margin-right': '0.5in',\n",
    "    'margin-bottom': '0.5in',\n",
    "    'margin-left': '0.5in',\n",
    "    'encoding': \"UTF-8\",\n",
    "    'enable-local-file-access': None,\n",
    "    'no-outline': None,\n",
    "    'orientation': 'Portrait',\n",
    "    'header-font-name': 'Times New Roman',\n",
    "    'header-font-size': 9,\n",
    "    'header-center': \"Scott's Tots Confidential\",\n",
    "    'footer-font-name': 'Times New Roman',\n",
    "    'footer-font-size': 9,\n",
    "    'footer-right': 'Created on ' + str(my_date),\n",
    "    'footer-center': \"Page [page] of [topage]\",\n",
    "    'footer-left': 'Created by: Jim Halpert',\n",
    "    'enable-toc-back-links': None\n",
    "}\n",
    "\n",
    "toc = {'xsl-style-sheet': '00 Resources/tableofcontent_style_config_v1.xml'}\n",
    "\n",
    "print('\\n------------ Converting HTML to PDF -------------')\n",
    "pdfkit.from_string(html_string,'01 Outputs/PDF Report Sample - with Table of Contents and Added Customisation.pdf', configuration=config, options = options, toc = toc)\n",
    "\n"
   ]
  },
  {
   "cell_type": "code",
   "execution_count": null,
   "metadata": {},
   "outputs": [],
   "source": []
  }
 ],
 "metadata": {
  "kernelspec": {
   "display_name": "Python 3",
   "language": "python",
   "name": "python3"
  },
  "language_info": {
   "codemirror_mode": {
    "name": "ipython",
    "version": 3
   },
   "file_extension": ".py",
   "mimetype": "text/x-python",
   "name": "python",
   "nbconvert_exporter": "python",
   "pygments_lexer": "ipython3",
   "version": "3.8.2"
  }
 },
 "nbformat": 4,
 "nbformat_minor": 4
}
